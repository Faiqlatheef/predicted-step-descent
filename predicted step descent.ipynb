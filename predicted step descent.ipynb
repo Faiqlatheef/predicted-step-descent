{
  "nbformat": 4,
  "nbformat_minor": 0,
  "metadata": {
    "colab": {
      "provenance": []
    },
    "kernelspec": {
      "name": "python3",
      "display_name": "Python 3"
    },
    "language_info": {
      "name": "python"
    },
    "widgets": {
      "application/vnd.jupyter.widget-state+json": {
        "653a2280c9434b44adf8f281138610a3": {
          "model_module": "@jupyter-widgets/controls",
          "model_name": "HBoxModel",
          "model_module_version": "1.5.0",
          "state": {
            "_dom_classes": [],
            "_model_module": "@jupyter-widgets/controls",
            "_model_module_version": "1.5.0",
            "_model_name": "HBoxModel",
            "_view_count": null,
            "_view_module": "@jupyter-widgets/controls",
            "_view_module_version": "1.5.0",
            "_view_name": "HBoxView",
            "box_style": "",
            "children": [
              "IPY_MODEL_954b640f8d504623a729687f741c79c2",
              "IPY_MODEL_786bc93519684de097a0bfaed7cbacb5",
              "IPY_MODEL_7e16e80f0237451aa916bf1aa0cb841b"
            ],
            "layout": "IPY_MODEL_ec201490de1941299ad1fb3b20a7b499"
          }
        },
        "954b640f8d504623a729687f741c79c2": {
          "model_module": "@jupyter-widgets/controls",
          "model_name": "HTMLModel",
          "model_module_version": "1.5.0",
          "state": {
            "_dom_classes": [],
            "_model_module": "@jupyter-widgets/controls",
            "_model_module_version": "1.5.0",
            "_model_name": "HTMLModel",
            "_view_count": null,
            "_view_module": "@jupyter-widgets/controls",
            "_view_module_version": "1.5.0",
            "_view_name": "HTMLView",
            "description": "",
            "description_tooltip": null,
            "layout": "IPY_MODEL_b7c7733beae34cdc9e32d5dde51655d5",
            "placeholder": "​",
            "style": "IPY_MODEL_7cf6467677624c8f980cef70b2ba69b8",
            "value": "100%"
          }
        },
        "786bc93519684de097a0bfaed7cbacb5": {
          "model_module": "@jupyter-widgets/controls",
          "model_name": "FloatProgressModel",
          "model_module_version": "1.5.0",
          "state": {
            "_dom_classes": [],
            "_model_module": "@jupyter-widgets/controls",
            "_model_module_version": "1.5.0",
            "_model_name": "FloatProgressModel",
            "_view_count": null,
            "_view_module": "@jupyter-widgets/controls",
            "_view_module_version": "1.5.0",
            "_view_name": "ProgressView",
            "bar_style": "success",
            "description": "",
            "description_tooltip": null,
            "layout": "IPY_MODEL_a1c934b274214f829c472288bfdcfc03",
            "max": 170498071,
            "min": 0,
            "orientation": "horizontal",
            "style": "IPY_MODEL_3250363bdae94404845ee009b892fa0b",
            "value": 170498071
          }
        },
        "7e16e80f0237451aa916bf1aa0cb841b": {
          "model_module": "@jupyter-widgets/controls",
          "model_name": "HTMLModel",
          "model_module_version": "1.5.0",
          "state": {
            "_dom_classes": [],
            "_model_module": "@jupyter-widgets/controls",
            "_model_module_version": "1.5.0",
            "_model_name": "HTMLModel",
            "_view_count": null,
            "_view_module": "@jupyter-widgets/controls",
            "_view_module_version": "1.5.0",
            "_view_name": "HTMLView",
            "description": "",
            "description_tooltip": null,
            "layout": "IPY_MODEL_88b571f99a4d4c2ea05e62096d29bb7e",
            "placeholder": "​",
            "style": "IPY_MODEL_c4b0dc57f8084edb9e49dbc358e6df17",
            "value": " 170498071/170498071 [00:14&lt;00:00, 17006771.56it/s]"
          }
        },
        "ec201490de1941299ad1fb3b20a7b499": {
          "model_module": "@jupyter-widgets/base",
          "model_name": "LayoutModel",
          "model_module_version": "1.2.0",
          "state": {
            "_model_module": "@jupyter-widgets/base",
            "_model_module_version": "1.2.0",
            "_model_name": "LayoutModel",
            "_view_count": null,
            "_view_module": "@jupyter-widgets/base",
            "_view_module_version": "1.2.0",
            "_view_name": "LayoutView",
            "align_content": null,
            "align_items": null,
            "align_self": null,
            "border": null,
            "bottom": null,
            "display": null,
            "flex": null,
            "flex_flow": null,
            "grid_area": null,
            "grid_auto_columns": null,
            "grid_auto_flow": null,
            "grid_auto_rows": null,
            "grid_column": null,
            "grid_gap": null,
            "grid_row": null,
            "grid_template_areas": null,
            "grid_template_columns": null,
            "grid_template_rows": null,
            "height": null,
            "justify_content": null,
            "justify_items": null,
            "left": null,
            "margin": null,
            "max_height": null,
            "max_width": null,
            "min_height": null,
            "min_width": null,
            "object_fit": null,
            "object_position": null,
            "order": null,
            "overflow": null,
            "overflow_x": null,
            "overflow_y": null,
            "padding": null,
            "right": null,
            "top": null,
            "visibility": null,
            "width": null
          }
        },
        "b7c7733beae34cdc9e32d5dde51655d5": {
          "model_module": "@jupyter-widgets/base",
          "model_name": "LayoutModel",
          "model_module_version": "1.2.0",
          "state": {
            "_model_module": "@jupyter-widgets/base",
            "_model_module_version": "1.2.0",
            "_model_name": "LayoutModel",
            "_view_count": null,
            "_view_module": "@jupyter-widgets/base",
            "_view_module_version": "1.2.0",
            "_view_name": "LayoutView",
            "align_content": null,
            "align_items": null,
            "align_self": null,
            "border": null,
            "bottom": null,
            "display": null,
            "flex": null,
            "flex_flow": null,
            "grid_area": null,
            "grid_auto_columns": null,
            "grid_auto_flow": null,
            "grid_auto_rows": null,
            "grid_column": null,
            "grid_gap": null,
            "grid_row": null,
            "grid_template_areas": null,
            "grid_template_columns": null,
            "grid_template_rows": null,
            "height": null,
            "justify_content": null,
            "justify_items": null,
            "left": null,
            "margin": null,
            "max_height": null,
            "max_width": null,
            "min_height": null,
            "min_width": null,
            "object_fit": null,
            "object_position": null,
            "order": null,
            "overflow": null,
            "overflow_x": null,
            "overflow_y": null,
            "padding": null,
            "right": null,
            "top": null,
            "visibility": null,
            "width": null
          }
        },
        "7cf6467677624c8f980cef70b2ba69b8": {
          "model_module": "@jupyter-widgets/controls",
          "model_name": "DescriptionStyleModel",
          "model_module_version": "1.5.0",
          "state": {
            "_model_module": "@jupyter-widgets/controls",
            "_model_module_version": "1.5.0",
            "_model_name": "DescriptionStyleModel",
            "_view_count": null,
            "_view_module": "@jupyter-widgets/base",
            "_view_module_version": "1.2.0",
            "_view_name": "StyleView",
            "description_width": ""
          }
        },
        "a1c934b274214f829c472288bfdcfc03": {
          "model_module": "@jupyter-widgets/base",
          "model_name": "LayoutModel",
          "model_module_version": "1.2.0",
          "state": {
            "_model_module": "@jupyter-widgets/base",
            "_model_module_version": "1.2.0",
            "_model_name": "LayoutModel",
            "_view_count": null,
            "_view_module": "@jupyter-widgets/base",
            "_view_module_version": "1.2.0",
            "_view_name": "LayoutView",
            "align_content": null,
            "align_items": null,
            "align_self": null,
            "border": null,
            "bottom": null,
            "display": null,
            "flex": null,
            "flex_flow": null,
            "grid_area": null,
            "grid_auto_columns": null,
            "grid_auto_flow": null,
            "grid_auto_rows": null,
            "grid_column": null,
            "grid_gap": null,
            "grid_row": null,
            "grid_template_areas": null,
            "grid_template_columns": null,
            "grid_template_rows": null,
            "height": null,
            "justify_content": null,
            "justify_items": null,
            "left": null,
            "margin": null,
            "max_height": null,
            "max_width": null,
            "min_height": null,
            "min_width": null,
            "object_fit": null,
            "object_position": null,
            "order": null,
            "overflow": null,
            "overflow_x": null,
            "overflow_y": null,
            "padding": null,
            "right": null,
            "top": null,
            "visibility": null,
            "width": null
          }
        },
        "3250363bdae94404845ee009b892fa0b": {
          "model_module": "@jupyter-widgets/controls",
          "model_name": "ProgressStyleModel",
          "model_module_version": "1.5.0",
          "state": {
            "_model_module": "@jupyter-widgets/controls",
            "_model_module_version": "1.5.0",
            "_model_name": "ProgressStyleModel",
            "_view_count": null,
            "_view_module": "@jupyter-widgets/base",
            "_view_module_version": "1.2.0",
            "_view_name": "StyleView",
            "bar_color": null,
            "description_width": ""
          }
        },
        "88b571f99a4d4c2ea05e62096d29bb7e": {
          "model_module": "@jupyter-widgets/base",
          "model_name": "LayoutModel",
          "model_module_version": "1.2.0",
          "state": {
            "_model_module": "@jupyter-widgets/base",
            "_model_module_version": "1.2.0",
            "_model_name": "LayoutModel",
            "_view_count": null,
            "_view_module": "@jupyter-widgets/base",
            "_view_module_version": "1.2.0",
            "_view_name": "LayoutView",
            "align_content": null,
            "align_items": null,
            "align_self": null,
            "border": null,
            "bottom": null,
            "display": null,
            "flex": null,
            "flex_flow": null,
            "grid_area": null,
            "grid_auto_columns": null,
            "grid_auto_flow": null,
            "grid_auto_rows": null,
            "grid_column": null,
            "grid_gap": null,
            "grid_row": null,
            "grid_template_areas": null,
            "grid_template_columns": null,
            "grid_template_rows": null,
            "height": null,
            "justify_content": null,
            "justify_items": null,
            "left": null,
            "margin": null,
            "max_height": null,
            "max_width": null,
            "min_height": null,
            "min_width": null,
            "object_fit": null,
            "object_position": null,
            "order": null,
            "overflow": null,
            "overflow_x": null,
            "overflow_y": null,
            "padding": null,
            "right": null,
            "top": null,
            "visibility": null,
            "width": null
          }
        },
        "c4b0dc57f8084edb9e49dbc358e6df17": {
          "model_module": "@jupyter-widgets/controls",
          "model_name": "DescriptionStyleModel",
          "model_module_version": "1.5.0",
          "state": {
            "_model_module": "@jupyter-widgets/controls",
            "_model_module_version": "1.5.0",
            "_model_name": "DescriptionStyleModel",
            "_view_count": null,
            "_view_module": "@jupyter-widgets/base",
            "_view_module_version": "1.2.0",
            "_view_name": "StyleView",
            "description_width": ""
          }
        }
      }
    }
  },
  "cells": [
    {
      "cell_type": "code",
      "execution_count": 1,
      "metadata": {
        "id": "FwyNIAohmHlq"
      },
      "outputs": [],
      "source": [
        "import torch\n",
        "import torch.optim as optim\n",
        "import torch.nn as nn\n",
        "import torch.nn.functional as F\n",
        "import torchvision\n",
        "import torchvision.transforms as transforms\n",
        "import matplotlib.pyplot as plt\n",
        "import numpy as np"
      ]
    },
    {
      "cell_type": "code",
      "source": [
        "data_dir = './data' # directory of the cifar-10 data you downloaded\n",
        "transform = transforms.Compose([transforms.RandomHorizontalFlip(), transforms.ToTensor()])\n",
        "trainset = torchvision.datasets.CIFAR10(root=data_dir, train=True, download=True, transform=transform)\n",
        "train_loader = torch.utils.data.DataLoader(trainset, batch_size=5, shuffle=True, num_workers=2)\n",
        "testset = torchvision.datasets.CIFAR10(root=data_dir, train=False, download=True, transform=transform)\n",
        "test_loader = torch.utils.data.DataLoader(testset, batch_size=5, shuffle=False, num_workers=2)\n",
        "# The 10 classes in the dataset\n",
        "classes = ('plane', 'car', 'bird', 'cat', 'deer', 'dog', 'frog', 'horse', 'ship', 'truck')"
      ],
      "metadata": {
        "colab": {
          "base_uri": "https://localhost:8080/",
          "height": 101,
          "referenced_widgets": [
            "653a2280c9434b44adf8f281138610a3",
            "954b640f8d504623a729687f741c79c2",
            "786bc93519684de097a0bfaed7cbacb5",
            "7e16e80f0237451aa916bf1aa0cb841b",
            "ec201490de1941299ad1fb3b20a7b499",
            "b7c7733beae34cdc9e32d5dde51655d5",
            "7cf6467677624c8f980cef70b2ba69b8",
            "a1c934b274214f829c472288bfdcfc03",
            "3250363bdae94404845ee009b892fa0b",
            "88b571f99a4d4c2ea05e62096d29bb7e",
            "c4b0dc57f8084edb9e49dbc358e6df17"
          ]
        },
        "id": "JrcXZHXumjI7",
        "outputId": "8a39b1bf-9e11-45a3-cfb3-fa0b18943342"
      },
      "execution_count": 2,
      "outputs": [
        {
          "output_type": "stream",
          "name": "stdout",
          "text": [
            "Downloading https://www.cs.toronto.edu/~kriz/cifar-10-python.tar.gz to ./data/cifar-10-python.tar.gz\n"
          ]
        },
        {
          "output_type": "display_data",
          "data": {
            "text/plain": [
              "  0%|          | 0/170498071 [00:00<?, ?it/s]"
            ],
            "application/vnd.jupyter.widget-view+json": {
              "version_major": 2,
              "version_minor": 0,
              "model_id": "653a2280c9434b44adf8f281138610a3"
            }
          },
          "metadata": {}
        },
        {
          "output_type": "stream",
          "name": "stdout",
          "text": [
            "Extracting ./data/cifar-10-python.tar.gz to ./data\n",
            "Files already downloaded and verified\n"
          ]
        }
      ]
    },
    {
      "cell_type": "code",
      "source": [
        "# to get the length of the taindata\n",
        "print(len(trainset))"
      ],
      "metadata": {
        "colab": {
          "base_uri": "https://localhost:8080/"
        },
        "id": "GohbxvSjm5-6",
        "outputId": "1fba014f-257e-44d8-9b04-669e473f51d2"
      },
      "execution_count": 3,
      "outputs": [
        {
          "output_type": "stream",
          "name": "stdout",
          "text": [
            "50000\n"
          ]
        }
      ]
    },
    {
      "cell_type": "code",
      "source": [
        "# get sample of train data and see length\n",
        "sample = next(iter(trainset))\n",
        "print(len(sample))"
      ],
      "metadata": {
        "colab": {
          "base_uri": "https://localhost:8080/"
        },
        "id": "Z3T5hoxZqOxb",
        "outputId": "11ed040f-3416-4b01-c58f-cf2d98c756cd"
      },
      "execution_count": 4,
      "outputs": [
        {
          "output_type": "stream",
          "name": "stdout",
          "text": [
            "2\n"
          ]
        }
      ]
    },
    {
      "cell_type": "code",
      "source": [
        "# get the image and it's label\n",
        "image, label = sample\n",
        "print(type(image))\n",
        "print(type(label))"
      ],
      "metadata": {
        "colab": {
          "base_uri": "https://localhost:8080/"
        },
        "id": "4Ndq5YlNqQ-T",
        "outputId": "83c43790-55fe-4020-c7a5-fe6a16f47b89"
      },
      "execution_count": 5,
      "outputs": [
        {
          "output_type": "stream",
          "name": "stdout",
          "text": [
            "<class 'torch.Tensor'>\n",
            "<class 'int'>\n"
          ]
        }
      ]
    },
    {
      "cell_type": "code",
      "source": [
        "# view image shape\n",
        "image.shape\n",
        "# length of test data\n",
        "print(len(testset))"
      ],
      "metadata": {
        "colab": {
          "base_uri": "https://localhost:8080/"
        },
        "id": "XayNQyKdqTYL",
        "outputId": "42abd8e1-9ede-4683-81fe-6319b8f3ac26"
      },
      "execution_count": 6,
      "outputs": [
        {
          "output_type": "stream",
          "name": "stdout",
          "text": [
            "10000\n"
          ]
        }
      ]
    },
    {
      "cell_type": "code",
      "source": [
        "# train_loader images\n",
        "dataiter = iter(train_loader)\n",
        "batch = next(dataiter)\n",
        "labels = batch[1][0:5]\n",
        "images = batch[0][0:5]\n",
        "for i in range(5):\n",
        "    print(classes[labels[i]])\n",
        "    image = images[i].numpy()\n",
        "    plt.imshow(np.rot90(image.T, k=3))\n",
        "    plt.show()"
      ],
      "metadata": {
        "colab": {
          "base_uri": "https://localhost:8080/",
          "height": 1000
        },
        "id": "59tFkVjSnMXB",
        "outputId": "b4c71001-25a7-4e6f-e890-4b949fe5c9ae"
      },
      "execution_count": 7,
      "outputs": [
        {
          "output_type": "stream",
          "name": "stdout",
          "text": [
            "cat\n"
          ]
        },
        {
          "output_type": "display_data",
          "data": {
            "text/plain": [
              "<Figure size 432x288 with 1 Axes>"
            ],
            "image/png": "[encoded data removed]"
          },
          "metadata": {
            "needs_background": "light"
          }
        },
        {
          "output_type": "stream",
          "name": "stdout",
          "text": [
            "plane\n"
          ]
        },
        {
          "output_type": "display_data",
          "data": {
            "text/plain": [
              "<Figure size 432x288 with 1 Axes>"
            ],
            "image/png": "[encoded data removed]"
          },
          "metadata": {
            "needs_background": "light"
          }
        },
        {
          "output_type": "stream",
          "name": "stdout",
          "text": [
            "deer\n"
          ]
        },
        {
          "output_type": "display_data",
          "data": {
            "text/plain": [
              "<Figure size 432x288 with 1 Axes>"
            ],
            "image/png": "[encoded data removed]"
          },
          "metadata": {
            "needs_background": "light"
          }
        },
        {
          "output_type": "stream",
          "name": "stdout",
          "text": [
            "car\n"
          ]
        },
        {
          "output_type": "display_data",
          "data": {
            "text/plain": [
              "<Figure size 432x288 with 1 Axes>"
            ],
            "image/png": "[encoded data removed]"
          },
          "metadata": {
            "needs_background": "light"
          }
        },
        {
          "output_type": "stream",
          "name": "stdout",
          "text": [
            "plane\n"
          ]
        },
        {
          "output_type": "display_data",
          "data": {
            "text/plain": [
              "<Figure size 432x288 with 1 Axes>"
            ],
            "image/png": "[encoded data removed]"
          },
          "metadata": {
            "needs_background": "light"
          }
        }
      ]
    },
    {
      "cell_type": "code",
      "source": [
        "# test_loader images\n",
        "dataiter = iter(test_loader)\n",
        "batch = next(dataiter)\n",
        "labels = batch[1][0:5]\n",
        "images = batch[0][0:5]\n",
        "for i in range(5):\n",
        "    print(classes[labels[i]])\n",
        "    image = images[i].numpy()\n",
        "    plt.imshow(np.rot90(image.T, k=3))\n",
        "    plt.show()"
      ],
      "metadata": {
        "colab": {
          "base_uri": "https://localhost:8080/",
          "height": 1000
        },
        "id": "VMWjhxWiqcUC",
        "outputId": "b3b71c37-a7ec-4ba3-9daf-b064ae07b282"
      },
      "execution_count": 8,
      "outputs": [
        {
          "output_type": "stream",
          "name": "stdout",
          "text": [
            "cat\n"
          ]
        },
        {
          "output_type": "display_data",
          "data": {
            "text/plain": [
              "<Figure size 432x288 with 1 Axes>"
            ],
            "image/png": "[encoded data removed]"
          },
          "metadata": {
            "needs_background": "light"
          }
        },
        {
          "output_type": "stream",
          "name": "stdout",
          "text": [
            "ship\n"
          ]
        },
        {
          "output_type": "display_data",
          "data": {
            "text/plain": [
              "<Figure size 432x288 with 1 Axes>"
            ],
            "image/png": "[encoded data removed]"
          },
          "metadata": {
            "needs_background": "light"
          }
        },
        {
          "output_type": "stream",
          "name": "stdout",
          "text": [
            "ship\n"
          ]
        },
        {
          "output_type": "display_data",
          "data": {
            "text/plain": [
              "<Figure size 432x288 with 1 Axes>"
            ],
            "image/png": "[encoded data removed]"
          },
          "metadata": {
            "needs_background": "light"
          }
        },
        {
          "output_type": "stream",
          "name": "stdout",
          "text": [
            "plane\n"
          ]
        },
        {
          "output_type": "display_data",
          "data": {
            "text/plain": [
              "<Figure size 432x288 with 1 Axes>"
            ],
            "image/png": "[encoded data removed]"
          },
          "metadata": {
            "needs_background": "light"
          }
        },
        {
          "output_type": "stream",
          "name": "stdout",
          "text": [
            "frog\n"
          ]
        },
        {
          "output_type": "display_data",
          "data": {
            "text/plain": [
              "<Figure size 432x288 with 1 Axes>"
            ],
            "image/png": "[encoded data removed]"
          },
          "metadata": {
            "needs_background": "light"
          }
        }
      ]
    },
    {
      "cell_type": "code",
      "source": [
        "class Net(nn.Module):\n",
        "    def __init__(self):\n",
        "        super(Net, self).__init__()\n",
        "        self.conv1 = nn.Conv2d(3, 32, 3)\n",
        "        self.conv2 = nn.Conv2d(32, 64, 3)\n",
        "        self.conv3 = nn.Conv2d(64, 128, 3)\n",
        "        self.pool = nn.MaxPool2d(2, 2)\n",
        "        self.fc1 = nn.Linear(128 * 2 * 2, 128)\n",
        "        self.fc2 = nn.Linear(128, 64)\n",
        "        self.fc3 = nn.Linear(64, 32)\n",
        "        self.fc4 = nn.Linear(32, 10)\n",
        "        self.dropout1 = nn.Dropout(p=0.2, inplace=False)\n",
        "    def forward(self, x):\n",
        "        x = self.pool(F.relu(self.conv1(x)))\n",
        "        x = self.dropout1(x)\n",
        "        x = self.pool(F.relu(self.conv2(x)))\n",
        "        x = self.dropout1(x)\n",
        "        x = self.pool(F.relu(self.conv3(x)))\n",
        "        x = self.dropout1(x)\n",
        "        x = x.view(-1, 128 * 2 * 2)\n",
        "        x = F.relu(self.fc1(x))\n",
        "        x = F.relu(self.fc2(x))\n",
        "        x = F.relu(self.fc3(x))\n",
        "        x = self.fc4(x) #output layer\n",
        "        \n",
        "        return x"
      ],
      "metadata": {
        "id": "2uexC49wnTqM"
      },
      "execution_count": 9,
      "outputs": []
    },
    {
      "cell_type": "code",
      "source": [
        "model = Net()"
      ],
      "metadata": {
        "id": "1c2XP9_1qp0n"
      },
      "execution_count": 10,
      "outputs": []
    },
    {
      "cell_type": "code",
      "source": [
        "device = 'cuda' if torch.cuda.is_available() else 'cpu'\n",
        "model.to(device)"
      ],
      "metadata": {
        "colab": {
          "base_uri": "https://localhost:8080/"
        },
        "id": "vOdhmB-iqvcf",
        "outputId": "fb9956c3-9c60-4730-d04a-d6f43768eece"
      },
      "execution_count": 11,
      "outputs": [
        {
          "output_type": "execute_result",
          "data": {
            "text/plain": [
              "Net(\n",
              "  (conv1): Conv2d(3, 32, kernel_size=(3, 3), stride=(1, 1))\n",
              "  (conv2): Conv2d(32, 64, kernel_size=(3, 3), stride=(1, 1))\n",
              "  (conv3): Conv2d(64, 128, kernel_size=(3, 3), stride=(1, 1))\n",
              "  (pool): MaxPool2d(kernel_size=2, stride=2, padding=0, dilation=1, ceil_mode=False)\n",
              "  (fc1): Linear(in_features=512, out_features=128, bias=True)\n",
              "  (fc2): Linear(in_features=128, out_features=64, bias=True)\n",
              "  (fc3): Linear(in_features=64, out_features=32, bias=True)\n",
              "  (fc4): Linear(in_features=32, out_features=10, bias=True)\n",
              "  (dropout1): Dropout(p=0.2, inplace=False)\n",
              ")"
            ]
          },
          "metadata": {},
          "execution_count": 11
        }
      ]
    },
    {
      "cell_type": "code",
      "source": [
        "criterion = nn.CrossEntropyLoss()\n",
        "# Stochastic gradient descent: to perform parameter update for each training sample\n",
        "optimizer = optim.SGD(model.parameters(), lr=0.001, momentum=0.9)"
      ],
      "metadata": {
        "id": "yNGts7kFq0PA"
      },
      "execution_count": 12,
      "outputs": []
    },
    {
      "cell_type": "code",
      "source": [
        "epoch_losses = [] # using this to record the training loss so that we can plot it against the epoch\n",
        "model.train()\n",
        "for epoch in range(20):\n",
        "    running_loss = 0.0\n",
        "    saved_loss = 0.0\n",
        "    for i, data in enumerate(train_loader, 0):\n",
        "        # get inputs and labels and convert to appropriate device\n",
        "        inputs, labels = data\n",
        "        inputs, labels = inputs.to(device), labels.to(device)\n",
        "        \n",
        "        # zero the parameter gradients\n",
        "        optimizer.zero_grad()\n",
        "        outputs = model(inputs)\n",
        "        loss = criterion(outputs, labels)\n",
        "        loss.backward()\n",
        "        optimizer.step()\n",
        "        \n",
        "        # print stats\n",
        "        running_loss += loss.item()\n",
        "        if i % 2000 == 1999:  # print every 2000 mini-batches\n",
        "            print('%d, %5d| loss: %.3f' %(epoch+1, i+1, running_loss/2000))\n",
        "            saved_loss = running_loss\n",
        "            running_loss = 0.0\n",
        "    epoch_losses.append(saved_loss/10000)\n",
        "print('Training done!')  # print when finished training"
      ],
      "metadata": {
        "colab": {
          "base_uri": "https://localhost:8080/"
        },
        "id": "5QxjvZXerGiR",
        "outputId": "e5c38614-feec-4b5c-8de0-8808e76b758c"
      },
      "execution_count": 13,
      "outputs": [
        {
          "output_type": "stream",
          "name": "stdout",
          "text": [
            "1,  2000| loss: 2.304\n",
            "1,  4000| loss: 2.302\n",
            "1,  6000| loss: 2.295\n",
            "1,  8000| loss: 2.170\n",
            "1, 10000| loss: 2.069\n",
            "2,  2000| loss: 1.995\n",
            "2,  4000| loss: 1.886\n",
            "2,  6000| loss: 1.827\n",
            "2,  8000| loss: 1.774\n",
            "2, 10000| loss: 1.701\n",
            "3,  2000| loss: 1.617\n",
            "3,  4000| loss: 1.569\n",
            "3,  6000| loss: 1.500\n",
            "3,  8000| loss: 1.463\n",
            "3, 10000| loss: 1.440\n",
            "4,  2000| loss: 1.411\n",
            "4,  4000| loss: 1.365\n",
            "4,  6000| loss: 1.343\n",
            "4,  8000| loss: 1.303\n",
            "4, 10000| loss: 1.286\n",
            "5,  2000| loss: 1.279\n",
            "5,  4000| loss: 1.253\n",
            "5,  6000| loss: 1.241\n",
            "5,  8000| loss: 1.211\n",
            "5, 10000| loss: 1.194\n",
            "6,  2000| loss: 1.180\n",
            "6,  4000| loss: 1.169\n",
            "6,  6000| loss: 1.160\n",
            "6,  8000| loss: 1.117\n",
            "6, 10000| loss: 1.151\n",
            "7,  2000| loss: 1.089\n",
            "7,  4000| loss: 1.096\n",
            "7,  6000| loss: 1.092\n",
            "7,  8000| loss: 1.095\n",
            "7, 10000| loss: 1.073\n",
            "8,  2000| loss: 1.064\n",
            "8,  4000| loss: 1.044\n",
            "8,  6000| loss: 1.020\n",
            "8,  8000| loss: 1.030\n",
            "8, 10000| loss: 1.030\n",
            "9,  2000| loss: 1.002\n",
            "9,  4000| loss: 0.986\n",
            "9,  6000| loss: 0.996\n",
            "9,  8000| loss: 0.996\n",
            "9, 10000| loss: 0.977\n",
            "10,  2000| loss: 0.955\n",
            "10,  4000| loss: 0.948\n",
            "10,  6000| loss: 0.967\n",
            "10,  8000| loss: 0.964\n",
            "10, 10000| loss: 0.950\n",
            "11,  2000| loss: 0.921\n",
            "11,  4000| loss: 0.927\n",
            "11,  6000| loss: 0.932\n",
            "11,  8000| loss: 0.923\n",
            "11, 10000| loss: 0.923\n",
            "12,  2000| loss: 0.903\n",
            "12,  4000| loss: 0.910\n",
            "12,  6000| loss: 0.882\n",
            "12,  8000| loss: 0.911\n",
            "12, 10000| loss: 0.899\n",
            "13,  2000| loss: 0.885\n",
            "13,  4000| loss: 0.866\n",
            "13,  6000| loss: 0.882\n",
            "13,  8000| loss: 0.884\n",
            "13, 10000| loss: 0.866\n",
            "14,  2000| loss: 0.854\n",
            "14,  4000| loss: 0.857\n",
            "14,  6000| loss: 0.854\n",
            "14,  8000| loss: 0.856\n",
            "14, 10000| loss: 0.864\n",
            "15,  2000| loss: 0.832\n",
            "15,  4000| loss: 0.838\n",
            "15,  6000| loss: 0.848\n",
            "15,  8000| loss: 0.822\n",
            "15, 10000| loss: 0.828\n",
            "16,  2000| loss: 0.814\n",
            "16,  4000| loss: 0.812\n",
            "16,  6000| loss: 0.803\n",
            "16,  8000| loss: 0.818\n",
            "16, 10000| loss: 0.809\n",
            "17,  2000| loss: 0.811\n",
            "17,  4000| loss: 0.797\n",
            "17,  6000| loss: 0.803\n",
            "17,  8000| loss: 0.799\n",
            "17, 10000| loss: 0.803\n",
            "18,  2000| loss: 0.778\n",
            "18,  4000| loss: 0.787\n",
            "18,  6000| loss: 0.790\n",
            "18,  8000| loss: 0.791\n",
            "18, 10000| loss: 0.792\n",
            "19,  2000| loss: 0.749\n",
            "19,  4000| loss: 0.772\n",
            "19,  6000| loss: 0.792\n",
            "19,  8000| loss: 0.748\n",
            "19, 10000| loss: 0.785\n",
            "20,  2000| loss: 0.740\n",
            "20,  4000| loss: 0.746\n",
            "20,  6000| loss: 0.747\n",
            "20,  8000| loss: 0.762\n",
            "20, 10000| loss: 0.775\n",
            "Training done!\n"
          ]
        }
      ]
    },
    {
      "cell_type": "code",
      "source": [
        "epochs = range(1,21)\n",
        "plt.plot(epochs, epoch_losses, 'g', label='Training loss')\n",
        "plt.title('Trainingloss')\n",
        "plt.xlabel('Epochs')\n",
        "plt.ylabel('Loss')\n",
        "plt.legend()\n",
        "plt.show()"
      ],
      "metadata": {
        "colab": {
          "base_uri": "https://localhost:8080/",
          "height": 295
        },
        "id": "plk_wJgRv0Pl",
        "outputId": "de9a3b62-a58d-4f22-e1ae-8f2af80b7b8b"
      },
      "execution_count": 14,
      "outputs": [
        {
          "output_type": "display_data",
          "data": {
            "text/plain": [
              "<Figure size 432x288 with 1 Axes>"
            ],
            "image/png": "[encoded data removed]"
          },
          "metadata": {
            "needs_background": "light"
          }
        }
      ]
    },
    {
      "cell_type": "code",
      "source": [
        "total = 0\n",
        "correct = 0\n",
        "model.eval() # out our model in evaluation mode\n",
        "with torch.no_grad():\n",
        "    for data in test_loader:\n",
        "        images, labels = data\n",
        "        images, labels = images.to(device), labels.to(device)\n",
        "        outputs = model(images)\n",
        "        _, predicted = torch.max(outputs.data, 1)\n",
        "        total += labels.size(0)\n",
        "        correct += (predicted == labels).sum().item()\n",
        "print('Accuracy: %d %%' % (100 * correct / total))"
      ],
      "metadata": {
        "colab": {
          "base_uri": "https://localhost:8080/"
        },
        "id": "-uEbsh6vv2FF",
        "outputId": "fc71fa86-90a6-4f72-bd13-4a82b1ef89fd"
      },
      "execution_count": 15,
      "outputs": [
        {
          "output_type": "stream",
          "name": "stdout",
          "text": [
            "Accuracy: 74 %\n"
          ]
        }
      ]
    },
    {
      "cell_type": "code",
      "source": [
        "dataiter = iter(test_loader)\n",
        "images, labels = dataiter.__next__()\n",
        "print('Truth: ', ' '.join('%5s' % classes[labels[j]] for j in range(5)))\n",
        "outputs = model(images)\n",
        "# Output prediction\n",
        "_, predicted = torch.max(outputs, 1)\n",
        "print('Predicted: ', ' '.join('%5s' % classes[predicted[j]] for j in range(5)))"
      ],
      "metadata": {
        "colab": {
          "base_uri": "https://localhost:8080/"
        },
        "id": "_fh0eZkxv5Pt",
        "outputId": "e8852d20-dc8b-4d76-dfbb-ccc8c421b96a"
      },
      "execution_count": 17,
      "outputs": [
        {
          "output_type": "stream",
          "name": "stdout",
          "text": [
            "Truth:    cat  ship  ship plane  frog\n",
            "Predicted:    cat  ship   car  ship  deer\n"
          ]
        }
      ]
    },
    {
      "cell_type": "code",
      "source": [
        "checkpoint = {'model': model,\n",
        "            'state_dict': model.state_dict(),\n",
        "            'optimizer' : optimizer.state_dict()}\n",
        "torch.save(checkpoint, 'checkpoint.pth')"
      ],
      "metadata": {
        "id": "6VEMEX8nv7sD"
      },
      "execution_count": 18,
      "outputs": []
    }
  ]
}